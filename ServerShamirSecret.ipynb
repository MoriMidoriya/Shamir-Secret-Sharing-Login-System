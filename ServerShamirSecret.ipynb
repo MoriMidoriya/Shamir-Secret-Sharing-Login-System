{
 "cells": [
  {
   "cell_type": "code",
   "execution_count": 1,
   "metadata": {},
   "outputs": [
    {
     "name": "stdout",
     "output_type": "stream",
     "text": [
      "Server listening on 127.0.0.1:8080\n"
     ]
    }
   ],
   "source": [
    "import socket\n",
    "import pickle\n",
    "import random\n",
    "import tkinter as tk\n",
    "from tkinter import ttk, messagebox\n",
    "from ttkthemes import ThemedStyle\n",
    "from PIL import Image, ImageTk\n",
    "\n",
    "def CreatePolynomial(coefficients, x, prime_modulus):\n",
    "    polynomial = 0\n",
    "    for i, coef in enumerate(coefficients):\n",
    "        polynomial = (polynomial + coef * (x ** i)) % prime_modulus\n",
    "    return polynomial\n",
    "\n",
    "def CreateShares(secret, threshold, prime_modulus, NumberOfShares):\n",
    "    coefficients = [secret] + [random.randint(1, prime_modulus - 1) for _ in range(threshold - 1)]\n",
    "\n",
    "    shares = []\n",
    "    for i in range(1, NumberOfShares + 1):\n",
    "        x = random.randint(1, prime_modulus - 1)\n",
    "        y = CreatePolynomial(coefficients, x, prime_modulus) % prime_modulus\n",
    "        shares.append((x, y))\n",
    "\n",
    "    return shares\n",
    "\n",
    "def lagrange_interpolation(shares, prime_modulus):\n",
    "    secret_reconstructed = 0\n",
    "    for i, yi in shares:\n",
    "        numerator = denominator = 1\n",
    "        for j, yj in shares:\n",
    "            if i != j:\n",
    "                numerator = (numerator * -j) % prime_modulus\n",
    "                denominator = (denominator * (i - j)) % prime_modulus\n",
    "        lagrange_term = (yi * numerator * pow(denominator, -1, prime_modulus)) % prime_modulus\n",
    "        secret_reconstructed = (secret_reconstructed + lagrange_term) % prime_modulus\n",
    "\n",
    "    return secret_reconstructed\n",
    "\n",
    "def handle_client(client_socket):\n",
    "    data = client_socket.recv(1024)\n",
    "    client_request = pickle.loads(data)\n",
    "\n",
    "    # Shamir's Secret Sharing\n",
    "    secret, threshold, prime_modulus = client_request\n",
    "    shares = CreateShares(secret, threshold, prime_modulus, 5)\n",
    "    reconstructed_secret = lagrange_interpolation(shares[:threshold], prime_modulus)\n",
    "\n",
    "    # Send the result back to the client\n",
    "    result_data = pickle.dumps(reconstructed_secret)\n",
    "    client_socket.sendall(result_data)\n",
    "    client_socket.close()\n",
    "\n",
    "def run_server():\n",
    "    HOST = '127.0.0.1'\n",
    "    PORT = 8080\n",
    "\n",
    "    with socket.socket(socket.AF_INET, socket.SOCK_STREAM) as server_socket:\n",
    "        server_socket.bind((HOST, PORT))\n",
    "        server_socket.listen()\n",
    "\n",
    "        print(f\"Server listening on {HOST}:{PORT}\")\n",
    "\n",
    "        while True:\n",
    "            conn, addr = server_socket.accept()\n",
    "            with conn:\n",
    "                print(f\"Connected by {addr}\")\n",
    "                handle_client(conn)\n",
    "\n",
    "if __name__ == \"__main__\":\n",
    "    run_server()\n"
   ]
  }
 ],
 "metadata": {
  "kernelspec": {
   "display_name": "Python 3",
   "language": "python",
   "name": "python3"
  },
  "language_info": {
   "codemirror_mode": {
    "name": "ipython",
    "version": 3
   },
   "file_extension": ".py",
   "mimetype": "text/x-python",
   "name": "python",
   "nbconvert_exporter": "python",
   "pygments_lexer": "ipython3",
   "version": "3.10.11"
  }
 },
 "nbformat": 4,
 "nbformat_minor": 2
}
